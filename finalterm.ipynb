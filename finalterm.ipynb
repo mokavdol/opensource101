{
 "cells": [
  {
   "cell_type": "code",
   "execution_count": 4,
   "id": "6e3d6fc4",
   "metadata": {},
   "outputs": [
    {
     "ename": "SyntaxError",
     "evalue": "invalid syntax (Temp/ipykernel_1884/3680206405.py, line 5)",
     "output_type": "error",
     "traceback": [
      "\u001b[1;36m  File \u001b[1;32m\"C:\\Users\\mokav\\AppData\\Local\\Temp/ipykernel_1884/3680206405.py\"\u001b[1;36m, line \u001b[1;32m5\u001b[0m\n\u001b[1;33m    input country_baccinations.csv\u001b[0m\n\u001b[1;37m          ^\u001b[0m\n\u001b[1;31mSyntaxError\u001b[0m\u001b[1;31m:\u001b[0m invalid syntax\n"
     ]
    }
   ],
   "source": [
    "import numpy\n",
    "import pandas\n",
    "import matplotlib\n",
    "\n",
    "#csv파일을 불러와 numpy로 배열로 만듬\n",
    "#2)[n,3]행을 참조하여 날짜에 해당하는 변수 생성 하여 [n,8]로 초기화. 변수가 이미 있다면 [n,8]을 해당 날짜 변수에 더함.\n",
    "#3)country_temp와 country_present 변수를 생성, country_present에는 [n,1]을 저장\n",
    "#\n",
    "#country_temp에 country_present가 서로 다를 경우 country_temp에 country_present를 저장"
   ]
  },
  {
   "cell_type": "code",
   "execution_count": null,
   "id": "bbcf53dc",
   "metadata": {},
   "outputs": [],
   "source": [
    "\n"
   ]
  },
  {
   "cell_type": "code",
   "execution_count": null,
   "id": "8bb0e998",
   "metadata": {},
   "outputs": [],
   "source": []
  },
  {
   "cell_type": "code",
   "execution_count": null,
   "id": "2383701c",
   "metadata": {},
   "outputs": [],
   "source": []
  },
  {
   "cell_type": "code",
   "execution_count": null,
   "id": "5287a830",
   "metadata": {},
   "outputs": [],
   "source": []
  },
  {
   "cell_type": "code",
   "execution_count": null,
   "id": "e5d3e021",
   "metadata": {},
   "outputs": [],
   "source": []
  }
 ],
 "metadata": {
  "kernelspec": {
   "display_name": "Python 3 (ipykernel)",
   "language": "python",
   "name": "python3"
  },
  "language_info": {
   "codemirror_mode": {
    "name": "ipython",
    "version": 3
   },
   "file_extension": ".py",
   "mimetype": "text/x-python",
   "name": "python",
   "nbconvert_exporter": "python",
   "pygments_lexer": "ipython3",
   "version": "3.9.7"
  }
 },
 "nbformat": 4,
 "nbformat_minor": 5
}
