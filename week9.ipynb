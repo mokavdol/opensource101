{
 "cells": [
  {
   "cell_type": "code",
   "execution_count": 6,
   "id": "39eeb8b7",
   "metadata": {},
   "outputs": [
    {
     "name": "stdout",
     "output_type": "stream",
     "text": [
      "456 분은 7시간 36분입니다\n"
     ]
    }
   ],
   "source": [
    "minute = 60\n",
    "hour = 60 * minute\n",
    "print('456 분은 ' + str(456//60) + '시간 ' + str(456%60) + '분입니다') \n"
   ]
  },
  {
   "cell_type": "code",
   "execution_count": 25,
   "id": "b1d6a94e",
   "metadata": {},
   "outputs": [
    {
     "name": "stdout",
     "output_type": "stream",
     "text": [
      "['김철수', '이영희', '홍길동']\n",
      "2.8\n",
      "3.9\n",
      "3.4\n"
     ]
    }
   ],
   "source": [
    "score = {\"홍길동\":3.4, \"김철수\":2.8, \"이영희\":3.9 }\n",
    "name = score.keys()\n",
    "name_list = list(name)\n",
    "name_list.sort()\n",
    "print(name_list)\n",
    "for i in name_list:\n",
    "    print(score.get(i))"
   ]
  }
 ],
 "metadata": {
  "kernelspec": {
   "display_name": "Python 3 (ipykernel)",
   "language": "python",
   "name": "python3"
  },
  "language_info": {
   "codemirror_mode": {
    "name": "ipython",
    "version": 3
   },
   "file_extension": ".py",
   "mimetype": "text/x-python",
   "name": "python",
   "nbconvert_exporter": "python",
   "pygments_lexer": "ipython3",
   "version": "3.9.7"
  }
 },
 "nbformat": 4,
 "nbformat_minor": 5
}
